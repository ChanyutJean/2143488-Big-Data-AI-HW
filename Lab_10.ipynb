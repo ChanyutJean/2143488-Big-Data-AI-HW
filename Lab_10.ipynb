{
  "nbformat": 4,
  "nbformat_minor": 0,
  "metadata": {
    "colab": {
      "name": "Big Data AI: Ensemble.ipynb",
      "provenance": [],
      "toc_visible": true,
      "authorship_tag": "ABX9TyPfasp0U4iD9V9jOaOTwrc6",
      "include_colab_link": true
    },
    "kernelspec": {
      "name": "python3",
      "display_name": "Python 3"
    },
    "language_info": {
      "name": "python"
    }
  },
  "cells": [
    {
      "cell_type": "markdown",
      "metadata": {
        "id": "view-in-github",
        "colab_type": "text"
      },
      "source": [
        "<a href=\"https://colab.research.google.com/github/ChanyutJean/2143488-Big-Data-AI-HW/blob/main/Lab_10.ipynb\" target=\"_parent\"><img src=\"https://colab.research.google.com/assets/colab-badge.svg\" alt=\"Open In Colab\"/></a>"
      ]
    },
    {
      "cell_type": "markdown",
      "source": [
        "# Pre-Modelling"
      ],
      "metadata": {
        "id": "H_JRwbl1vFTM"
      }
    },
    {
      "cell_type": "code",
      "execution_count": 2,
      "metadata": {
        "id": "oefChBSbtMUz"
      },
      "outputs": [],
      "source": [
        "# Don't forget to import data!\n",
        "import pandas as pd\n",
        "df = pd.read_csv(\"HW3_movie_metadata.csv\")"
      ]
    },
    {
      "cell_type": "code",
      "source": [
        "print(df.head())\n",
        "print(df.tail())\n",
        "print(df.info())\n",
        "print(df.describe())\n",
        "print(df.isna())"
      ],
      "metadata": {
        "colab": {
          "base_uri": "https://localhost:8080/"
        },
        "id": "k8V8zgy1toYY",
        "outputId": "4801eb7e-bb2a-429e-fc97-6413501e1f5d"
      },
      "execution_count": 3,
      "outputs": [
        {
          "output_type": "stream",
          "name": "stdout",
          "text": [
            "       director_name  num_critic_for_reviews  duration  \\\n",
            "0      James Cameron                   723.0     178.0   \n",
            "1     Gore Verbinski                   302.0     169.0   \n",
            "2         Sam Mendes                   602.0     148.0   \n",
            "3  Christopher Nolan                   813.0     164.0   \n",
            "4        Doug Walker                     NaN       NaN   \n",
            "\n",
            "   director_facebook_likes  actor_3_facebook_likes      actor_2_name  \\\n",
            "0                      0.0                   855.0  Joel David Moore   \n",
            "1                    563.0                  1000.0     Orlando Bloom   \n",
            "2                      0.0                   161.0      Rory Kinnear   \n",
            "3                  22000.0                 23000.0    Christian Bale   \n",
            "4                    131.0                     NaN        Rob Walker   \n",
            "\n",
            "   actor_1_facebook_likes        gross                           genres  \\\n",
            "0                  1000.0  760505847.0  Action|Adventure|Fantasy|Sci-Fi   \n",
            "1                 40000.0  309404152.0         Action|Adventure|Fantasy   \n",
            "2                 11000.0  200074175.0        Action|Adventure|Thriller   \n",
            "3                 27000.0  448130642.0                  Action|Thriller   \n",
            "4                   131.0          NaN                      Documentary   \n",
            "\n",
            "      actor_1_name  ... num_user_for_reviews  language  country  \\\n",
            "0      CCH Pounder  ...               3054.0   English      USA   \n",
            "1      Johnny Depp  ...               1238.0   English      USA   \n",
            "2  Christoph Waltz  ...                994.0   English       UK   \n",
            "3        Tom Hardy  ...               2701.0   English      USA   \n",
            "4      Doug Walker  ...                  NaN       NaN      NaN   \n",
            "\n",
            "  content_rating       budget title_year actor_2_facebook_likes  imdb_score  \\\n",
            "0          PG-13  237000000.0     2009.0                  936.0         7.9   \n",
            "1          PG-13  300000000.0     2007.0                 5000.0         7.1   \n",
            "2          PG-13  245000000.0     2015.0                  393.0         6.8   \n",
            "3          PG-13  250000000.0     2012.0                23000.0         8.5   \n",
            "4            NaN          NaN        NaN                   12.0         7.1   \n",
            "\n",
            "  aspect_ratio movie_facebook_likes  \n",
            "0         1.78                33000  \n",
            "1         2.35                    0  \n",
            "2         2.35                85000  \n",
            "3         2.35               164000  \n",
            "4          NaN                    0  \n",
            "\n",
            "[5 rows x 27 columns]\n",
            "         director_name  num_critic_for_reviews  duration  \\\n",
            "5038       Scott Smith                     1.0      87.0   \n",
            "5039               NaN                    43.0      43.0   \n",
            "5040  Benjamin Roberds                    13.0      76.0   \n",
            "5041       Daniel Hsia                    14.0     100.0   \n",
            "5042          Jon Gunn                    43.0      90.0   \n",
            "\n",
            "      director_facebook_likes  actor_3_facebook_likes      actor_2_name  \\\n",
            "5038                      2.0                   318.0     Daphne Zuniga   \n",
            "5039                      NaN                   319.0     Valorie Curry   \n",
            "5040                      0.0                     0.0     Maxwell Moody   \n",
            "5041                      0.0                   489.0     Daniel Henney   \n",
            "5042                     16.0                    16.0  Brian Herzlinger   \n",
            "\n",
            "      actor_1_facebook_likes    gross                        genres  \\\n",
            "5038                   637.0      NaN                  Comedy|Drama   \n",
            "5039                   841.0      NaN  Crime|Drama|Mystery|Thriller   \n",
            "5040                     0.0      NaN         Drama|Horror|Thriller   \n",
            "5041                   946.0  10443.0          Comedy|Drama|Romance   \n",
            "5042                    86.0  85222.0                   Documentary   \n",
            "\n",
            "     actor_1_name  ... num_user_for_reviews  language  country content_rating  \\\n",
            "5038  Eric Mabius  ...                  6.0   English   Canada            NaN   \n",
            "5039  Natalie Zea  ...                359.0   English      USA          TV-14   \n",
            "5040  Eva Boehnke  ...                  3.0   English      USA            NaN   \n",
            "5041    Alan Ruck  ...                  9.0   English      USA          PG-13   \n",
            "5042  John August  ...                 84.0   English      USA             PG   \n",
            "\n",
            "      budget title_year actor_2_facebook_likes  imdb_score aspect_ratio  \\\n",
            "5038     NaN     2013.0                  470.0         7.7          NaN   \n",
            "5039     NaN        NaN                  593.0         7.5        16.00   \n",
            "5040  1400.0     2013.0                    0.0         6.3          NaN   \n",
            "5041     NaN     2012.0                  719.0         6.3         2.35   \n",
            "5042  1100.0     2004.0                   23.0         6.6         1.85   \n",
            "\n",
            "     movie_facebook_likes  \n",
            "5038                   84  \n",
            "5039                32000  \n",
            "5040                   16  \n",
            "5041                  660  \n",
            "5042                  456  \n",
            "\n",
            "[5 rows x 27 columns]\n",
            "<class 'pandas.core.frame.DataFrame'>\n",
            "RangeIndex: 5043 entries, 0 to 5042\n",
            "Data columns (total 27 columns):\n",
            " #   Column                     Non-Null Count  Dtype  \n",
            "---  ------                     --------------  -----  \n",
            " 0   director_name              4939 non-null   object \n",
            " 1   num_critic_for_reviews     4993 non-null   float64\n",
            " 2   duration                   5028 non-null   float64\n",
            " 3   director_facebook_likes    4939 non-null   float64\n",
            " 4   actor_3_facebook_likes     5020 non-null   float64\n",
            " 5   actor_2_name               5030 non-null   object \n",
            " 6   actor_1_facebook_likes     5036 non-null   float64\n",
            " 7   gross                      4159 non-null   float64\n",
            " 8   genres                     5043 non-null   object \n",
            " 9   actor_1_name               5036 non-null   object \n",
            " 10  movie_title                5043 non-null   object \n",
            " 11  num_voted_users            5043 non-null   int64  \n",
            " 12  cast_total_facebook_likes  5043 non-null   int64  \n",
            " 13  actor_3_name               5020 non-null   object \n",
            " 14  facenumber_in_poster       5030 non-null   float64\n",
            " 15  plot_keywords              4890 non-null   object \n",
            " 16  movie_imdb_link            5043 non-null   object \n",
            " 17  num_user_for_reviews       5022 non-null   float64\n",
            " 18  language                   5031 non-null   object \n",
            " 19  country                    5038 non-null   object \n",
            " 20  content_rating             4740 non-null   object \n",
            " 21  budget                     4551 non-null   float64\n",
            " 22  title_year                 4935 non-null   float64\n",
            " 23  actor_2_facebook_likes     5030 non-null   float64\n",
            " 24  imdb_score                 5043 non-null   float64\n",
            " 25  aspect_ratio               4714 non-null   float64\n",
            " 26  movie_facebook_likes       5043 non-null   int64  \n",
            "dtypes: float64(13), int64(3), object(11)\n",
            "memory usage: 1.0+ MB\n",
            "None\n",
            "       num_critic_for_reviews     duration  director_facebook_likes  \\\n",
            "count             4993.000000  5028.000000              4939.000000   \n",
            "mean               140.194272   107.201074               686.509212   \n",
            "std                121.601675    25.197441              2813.328607   \n",
            "min                  1.000000     7.000000                 0.000000   \n",
            "25%                 50.000000    93.000000                 7.000000   \n",
            "50%                110.000000   103.000000                49.000000   \n",
            "75%                195.000000   118.000000               194.500000   \n",
            "max                813.000000   511.000000             23000.000000   \n",
            "\n",
            "       actor_3_facebook_likes  actor_1_facebook_likes         gross  \\\n",
            "count             5020.000000             5036.000000  4.159000e+03   \n",
            "mean               645.009761             6560.047061  4.846841e+07   \n",
            "std               1665.041728            15020.759120  6.845299e+07   \n",
            "min                  0.000000                0.000000  1.620000e+02   \n",
            "25%                133.000000              614.000000  5.340988e+06   \n",
            "50%                371.500000              988.000000  2.551750e+07   \n",
            "75%                636.000000            11000.000000  6.230944e+07   \n",
            "max              23000.000000           640000.000000  7.605058e+08   \n",
            "\n",
            "       num_voted_users  cast_total_facebook_likes  facenumber_in_poster  \\\n",
            "count     5.043000e+03                5043.000000           5030.000000   \n",
            "mean      8.366816e+04                9699.063851              1.371173   \n",
            "std       1.384853e+05               18163.799124              2.013576   \n",
            "min       5.000000e+00                   0.000000              0.000000   \n",
            "25%       8.593500e+03                1411.000000              0.000000   \n",
            "50%       3.435900e+04                3090.000000              1.000000   \n",
            "75%       9.630900e+04               13756.500000              2.000000   \n",
            "max       1.689764e+06              656730.000000             43.000000   \n",
            "\n",
            "       num_user_for_reviews        budget   title_year  \\\n",
            "count           5022.000000  4.551000e+03  4935.000000   \n",
            "mean             272.770808  3.975262e+07  2002.470517   \n",
            "std              377.982886  2.061149e+08    12.474599   \n",
            "min                1.000000  2.180000e+02  1916.000000   \n",
            "25%               65.000000  6.000000e+06  1999.000000   \n",
            "50%              156.000000  2.000000e+07  2005.000000   \n",
            "75%              326.000000  4.500000e+07  2011.000000   \n",
            "max             5060.000000  1.221550e+10  2016.000000   \n",
            "\n",
            "       actor_2_facebook_likes   imdb_score  aspect_ratio  movie_facebook_likes  \n",
            "count             5030.000000  5043.000000   4714.000000           5043.000000  \n",
            "mean              1651.754473     6.442138      2.220403           7525.964505  \n",
            "std               4042.438863     1.125116      1.385113          19320.445110  \n",
            "min                  0.000000     1.600000      1.180000              0.000000  \n",
            "25%                281.000000     5.800000      1.850000              0.000000  \n",
            "50%                595.000000     6.600000      2.350000            166.000000  \n",
            "75%                918.000000     7.200000      2.350000           3000.000000  \n",
            "max             137000.000000     9.500000     16.000000         349000.000000  \n",
            "      director_name  num_critic_for_reviews  duration  \\\n",
            "0             False                   False     False   \n",
            "1             False                   False     False   \n",
            "2             False                   False     False   \n",
            "3             False                   False     False   \n",
            "4             False                    True      True   \n",
            "...             ...                     ...       ...   \n",
            "5038          False                   False     False   \n",
            "5039           True                   False     False   \n",
            "5040          False                   False     False   \n",
            "5041          False                   False     False   \n",
            "5042          False                   False     False   \n",
            "\n",
            "      director_facebook_likes  actor_3_facebook_likes  actor_2_name  \\\n",
            "0                       False                   False         False   \n",
            "1                       False                   False         False   \n",
            "2                       False                   False         False   \n",
            "3                       False                   False         False   \n",
            "4                       False                    True         False   \n",
            "...                       ...                     ...           ...   \n",
            "5038                    False                   False         False   \n",
            "5039                     True                   False         False   \n",
            "5040                    False                   False         False   \n",
            "5041                    False                   False         False   \n",
            "5042                    False                   False         False   \n",
            "\n",
            "      actor_1_facebook_likes  gross  genres  actor_1_name  ...  \\\n",
            "0                      False  False   False         False  ...   \n",
            "1                      False  False   False         False  ...   \n",
            "2                      False  False   False         False  ...   \n",
            "3                      False  False   False         False  ...   \n",
            "4                      False   True   False         False  ...   \n",
            "...                      ...    ...     ...           ...  ...   \n",
            "5038                   False   True   False         False  ...   \n",
            "5039                   False   True   False         False  ...   \n",
            "5040                   False   True   False         False  ...   \n",
            "5041                   False  False   False         False  ...   \n",
            "5042                   False  False   False         False  ...   \n",
            "\n",
            "      num_user_for_reviews  language  country  content_rating  budget  \\\n",
            "0                    False     False    False           False   False   \n",
            "1                    False     False    False           False   False   \n",
            "2                    False     False    False           False   False   \n",
            "3                    False     False    False           False   False   \n",
            "4                     True      True     True            True    True   \n",
            "...                    ...       ...      ...             ...     ...   \n",
            "5038                 False     False    False            True    True   \n",
            "5039                 False     False    False           False    True   \n",
            "5040                 False     False    False            True   False   \n",
            "5041                 False     False    False           False    True   \n",
            "5042                 False     False    False           False   False   \n",
            "\n",
            "      title_year  actor_2_facebook_likes  imdb_score  aspect_ratio  \\\n",
            "0          False                   False       False         False   \n",
            "1          False                   False       False         False   \n",
            "2          False                   False       False         False   \n",
            "3          False                   False       False         False   \n",
            "4           True                   False       False          True   \n",
            "...          ...                     ...         ...           ...   \n",
            "5038       False                   False       False          True   \n",
            "5039        True                   False       False         False   \n",
            "5040       False                   False       False          True   \n",
            "5041       False                   False       False         False   \n",
            "5042       False                   False       False         False   \n",
            "\n",
            "      movie_facebook_likes  \n",
            "0                    False  \n",
            "1                    False  \n",
            "2                    False  \n",
            "3                    False  \n",
            "4                    False  \n",
            "...                    ...  \n",
            "5038                 False  \n",
            "5039                 False  \n",
            "5040                 False  \n",
            "5041                 False  \n",
            "5042                 False  \n",
            "\n",
            "[5043 rows x 27 columns]\n"
          ]
        }
      ]
    },
    {
      "cell_type": "code",
      "source": [
        "df2 = df.copy()\n",
        "df2 = df2.dropna(subset = ['imdb_score'])\n",
        "df2 = df2._get_numeric_data()\n",
        "df2 = df2.fillna(df2.median())\n",
        "df2.info()"
      ],
      "metadata": {
        "colab": {
          "base_uri": "https://localhost:8080/"
        },
        "id": "po_arhestrPY",
        "outputId": "3360042f-f717-43a7-8190-094ad4134911"
      },
      "execution_count": 4,
      "outputs": [
        {
          "output_type": "stream",
          "name": "stdout",
          "text": [
            "<class 'pandas.core.frame.DataFrame'>\n",
            "Int64Index: 5043 entries, 0 to 5042\n",
            "Data columns (total 16 columns):\n",
            " #   Column                     Non-Null Count  Dtype  \n",
            "---  ------                     --------------  -----  \n",
            " 0   num_critic_for_reviews     5043 non-null   float64\n",
            " 1   duration                   5043 non-null   float64\n",
            " 2   director_facebook_likes    5043 non-null   float64\n",
            " 3   actor_3_facebook_likes     5043 non-null   float64\n",
            " 4   actor_1_facebook_likes     5043 non-null   float64\n",
            " 5   gross                      5043 non-null   float64\n",
            " 6   num_voted_users            5043 non-null   int64  \n",
            " 7   cast_total_facebook_likes  5043 non-null   int64  \n",
            " 8   facenumber_in_poster       5043 non-null   float64\n",
            " 9   num_user_for_reviews       5043 non-null   float64\n",
            " 10  budget                     5043 non-null   float64\n",
            " 11  title_year                 5043 non-null   float64\n",
            " 12  actor_2_facebook_likes     5043 non-null   float64\n",
            " 13  imdb_score                 5043 non-null   float64\n",
            " 14  aspect_ratio               5043 non-null   float64\n",
            " 15  movie_facebook_likes       5043 non-null   int64  \n",
            "dtypes: float64(13), int64(3)\n",
            "memory usage: 669.8 KB\n"
          ]
        }
      ]
    },
    {
      "cell_type": "code",
      "source": [
        "lo_bound = df2['imdb_score'].quantile(0.4)\n",
        "hi_bound = df2['imdb_score'].quantile(0.6)\n",
        "\n",
        "lo_data = df2[df2['imdb_score'] <= lo_bound]\n",
        "lo_data['imdb_score'].loc[:] = 0 #LOW\n",
        "\n",
        "hi_data = df2[df2['imdb_score'] >= hi_bound]\n",
        "hi_data['imdb_score'].loc[:] = 1 #HIGH\n",
        "\n",
        "df3 = pd.concat([lo_data, hi_data], axis=0)\n",
        "df3['imdb_score'].value_counts()"
      ],
      "metadata": {
        "colab": {
          "base_uri": "https://localhost:8080/"
        },
        "id": "wFm1YnQ5ttMY",
        "outputId": "2d8c3969-5019-4a28-d6bf-788709d61303"
      },
      "execution_count": 5,
      "outputs": [
        {
          "output_type": "stream",
          "name": "stderr",
          "text": [
            "/usr/local/lib/python3.7/dist-packages/pandas/core/indexing.py:1732: SettingWithCopyWarning: \n",
            "A value is trying to be set on a copy of a slice from a DataFrame\n",
            "\n",
            "See the caveats in the documentation: https://pandas.pydata.org/pandas-docs/stable/user_guide/indexing.html#returning-a-view-versus-a-copy\n",
            "  self._setitem_single_block(indexer, value, name)\n"
          ]
        },
        {
          "output_type": "execute_result",
          "data": {
            "text/plain": [
              "1.0    2133\n",
              "0.0    2115\n",
              "Name: imdb_score, dtype: int64"
            ]
          },
          "metadata": {},
          "execution_count": 5
        }
      ]
    },
    {
      "cell_type": "code",
      "source": [
        "X = df3.drop(columns='imdb_score')\n",
        "y = df3[['imdb_score']]\n",
        "X.info()"
      ],
      "metadata": {
        "colab": {
          "base_uri": "https://localhost:8080/"
        },
        "id": "adA_rVjetvxm",
        "outputId": "585dc4e7-c3e4-4482-9039-da0d3da0df74"
      },
      "execution_count": 6,
      "outputs": [
        {
          "output_type": "stream",
          "name": "stdout",
          "text": [
            "<class 'pandas.core.frame.DataFrame'>\n",
            "Int64Index: 4248 entries, 6 to 5039\n",
            "Data columns (total 15 columns):\n",
            " #   Column                     Non-Null Count  Dtype  \n",
            "---  ------                     --------------  -----  \n",
            " 0   num_critic_for_reviews     4248 non-null   float64\n",
            " 1   duration                   4248 non-null   float64\n",
            " 2   director_facebook_likes    4248 non-null   float64\n",
            " 3   actor_3_facebook_likes     4248 non-null   float64\n",
            " 4   actor_1_facebook_likes     4248 non-null   float64\n",
            " 5   gross                      4248 non-null   float64\n",
            " 6   num_voted_users            4248 non-null   int64  \n",
            " 7   cast_total_facebook_likes  4248 non-null   int64  \n",
            " 8   facenumber_in_poster       4248 non-null   float64\n",
            " 9   num_user_for_reviews       4248 non-null   float64\n",
            " 10  budget                     4248 non-null   float64\n",
            " 11  title_year                 4248 non-null   float64\n",
            " 12  actor_2_facebook_likes     4248 non-null   float64\n",
            " 13  aspect_ratio               4248 non-null   float64\n",
            " 14  movie_facebook_likes       4248 non-null   int64  \n",
            "dtypes: float64(12), int64(3)\n",
            "memory usage: 531.0 KB\n"
          ]
        }
      ]
    },
    {
      "cell_type": "code",
      "source": [
        "from sklearn.model_selection import train_test_split\n",
        "X_train,X_test,y_train,y_test=train_test_split(X,y,test_size=0.3,shuffle=True,stratify=y,random_state=100)"
      ],
      "metadata": {
        "id": "eQUP2EGMtx9x"
      },
      "execution_count": 7,
      "outputs": []
    },
    {
      "cell_type": "code",
      "source": [
        "from sklearn.preprocessing import MinMaxScaler\n",
        "scaler = MinMaxScaler()\n",
        "scaler.fit(X_train)\n",
        "X_train = pd.DataFrame(scaler.transform(X_train),columns=X.columns)\n",
        "X_test = pd.DataFrame(scaler.transform(X_test),columns=X.columns)"
      ],
      "metadata": {
        "id": "VHhjYWGktz3u"
      },
      "execution_count": 8,
      "outputs": []
    },
    {
      "cell_type": "markdown",
      "source": [
        "# 1. Random Forest"
      ],
      "metadata": {
        "id": "rSGbwSEgvRLh"
      }
    },
    {
      "cell_type": "code",
      "execution_count": 14,
      "metadata": {
        "id": "ALJ4lkJytUq3",
        "colab": {
          "base_uri": "https://localhost:8080/"
        },
        "outputId": "b02f1be2-b7a0-4dec-a82f-a3c7274b97f2"
      },
      "outputs": [
        {
          "output_type": "stream",
          "name": "stderr",
          "text": [
            "/usr/local/lib/python3.7/dist-packages/ipykernel_launcher.py:4: DataConversionWarning: A column-vector y was passed when a 1d array was expected. Please change the shape of y to (n_samples,), for example using ravel().\n",
            "  after removing the cwd from sys.path.\n"
          ]
        }
      ],
      "source": [
        "from sklearn.ensemble import RandomForestClassifier\n",
        "\n",
        "rfc=RandomForestClassifier(criterion='entropy', max_depth=4, ccp_alpha=0.05, max_features='log2', n_estimators=10, random_state=0)\n",
        "rfc.fit(X_train, y_train)\n",
        "y_train_pred = rfc.predict(X_train)\n",
        "y_pred = rfc.predict(X_test)"
      ]
    },
    {
      "cell_type": "code",
      "source": [
        "import matplotlib.pyplot as plt\n",
        "import seaborn as sns\n",
        "from sklearn import metrics\n",
        "print(\"Classification Report: \\n\", metrics.classification_report(y_test,y_pred,target_names=('LOW', 'HIGH')),'\\n')\n",
        "print(\"Accuracy on train:\\n\",metrics.accuracy_score(y_train,y_train_pred).round(3))\n",
        "print(\"Accuracy on test:\\n\",metrics.accuracy_score(y_test,y_pred).round(3))\n",
        "cf=metrics.confusion_matrix(y_test,y_pred).round(3)\n",
        "sns.heatmap(cf,annot=True,cmap='Blues')\n",
        "plt.ylabel(\"True Label\")\n",
        "plt.xlabel(\"Predict Label\")\n",
        "plt.show()"
      ],
      "metadata": {
        "colab": {
          "base_uri": "https://localhost:8080/",
          "height": 553
        },
        "id": "vQWVN1HXwM72",
        "outputId": "15e2f19c-0729-43c9-b3ba-7f76a8982277"
      },
      "execution_count": 17,
      "outputs": [
        {
          "output_type": "stream",
          "name": "stdout",
          "text": [
            "Classification Report: \n",
            "               precision    recall  f1-score   support\n",
            "\n",
            "         LOW       0.67      0.77      0.72       635\n",
            "        HIGH       0.74      0.63      0.68       640\n",
            "\n",
            "    accuracy                           0.70      1275\n",
            "   macro avg       0.70      0.70      0.70      1275\n",
            "weighted avg       0.70      0.70      0.70      1275\n",
            " \n",
            "\n",
            "Accuracy on train:\n",
            " 0.692\n",
            "Accuracy on test:\n",
            " 0.7\n"
          ]
        },
        {
          "output_type": "display_data",
          "data": {
            "text/plain": [
              "<Figure size 432x288 with 2 Axes>"
            ],
            "image/png": "[encoded data removed]"
          },
          "metadata": {
            "needs_background": "light"
          }
        }
      ]
    },
    {
      "cell_type": "markdown",
      "source": [
        "# 2. Gradient Boost"
      ],
      "metadata": {
        "id": "n9wPx_zAwzph"
      }
    },
    {
      "cell_type": "code",
      "source": [
        "from sklearn.ensemble import GradientBoostingClassifier\n",
        "\n",
        "gbc = GradientBoostingClassifier(n_estimators=10, learning_rate=1, max_depth=1, random_state=0)\n",
        "gbc.fit(X_train, y_train)\n",
        "y_train_pred = gbc.predict(X_train)\n",
        "y_pred = gbc.predict(X_test)"
      ],
      "metadata": {
        "colab": {
          "base_uri": "https://localhost:8080/"
        },
        "id": "-O_ZhRkUwzKG",
        "outputId": "d17cfe3c-4f9b-4d87-c29d-26153324532a"
      },
      "execution_count": 18,
      "outputs": [
        {
          "output_type": "stream",
          "name": "stderr",
          "text": [
            "/usr/local/lib/python3.7/dist-packages/sklearn/ensemble/_gb.py:494: DataConversionWarning: A column-vector y was passed when a 1d array was expected. Please change the shape of y to (n_samples, ), for example using ravel().\n",
            "  y = column_or_1d(y, warn=True)\n"
          ]
        }
      ]
    },
    {
      "cell_type": "code",
      "source": [
        "import matplotlib.pyplot as plt\n",
        "import seaborn as sns\n",
        "from sklearn import metrics\n",
        "print(\"Classification Report: \\n\", metrics.classification_report(y_test,y_pred,target_names=('LOW', 'HIGH')),'\\n')\n",
        "print(\"Accuracy on train:\\n\",metrics.accuracy_score(y_train,y_train_pred).round(3))\n",
        "print(\"Accuracy on test:\\n\",metrics.accuracy_score(y_test,y_pred).round(3))\n",
        "cf=metrics.confusion_matrix(y_test,y_pred).round(3)\n",
        "sns.heatmap(cf,annot=True,cmap='Blues')\n",
        "plt.ylabel(\"True Label\")\n",
        "plt.xlabel(\"Predict Label\")\n",
        "plt.show()"
      ],
      "metadata": {
        "colab": {
          "base_uri": "https://localhost:8080/",
          "height": 553
        },
        "id": "OfM3IchHxT2h",
        "outputId": "a6c9663a-33ca-42c2-c707-1a2697c12bc5"
      },
      "execution_count": 19,
      "outputs": [
        {
          "output_type": "stream",
          "name": "stdout",
          "text": [
            "Classification Report: \n",
            "               precision    recall  f1-score   support\n",
            "\n",
            "         LOW       0.73      0.84      0.78       635\n",
            "        HIGH       0.81      0.70      0.75       640\n",
            "\n",
            "    accuracy                           0.77      1275\n",
            "   macro avg       0.77      0.77      0.77      1275\n",
            "weighted avg       0.77      0.77      0.77      1275\n",
            " \n",
            "\n",
            "Accuracy on train:\n",
            " 0.779\n",
            "Accuracy on test:\n",
            " 0.768\n"
          ]
        },
        {
          "output_type": "display_data",
          "data": {
            "text/plain": [
              "<Figure size 432x288 with 2 Axes>"
            ],
            "image/png": "[encoded data removed]"
          },
          "metadata": {
            "needs_background": "light"
          }
        }
      ]
    },
    {
      "cell_type": "markdown",
      "source": [
        "# 3. Voting"
      ],
      "metadata": {
        "id": "lvWbI5wkxY7b"
      }
    },
    {
      "cell_type": "code",
      "source": [
        "# Remove multi-collinearity\n",
        "X_train = X_train.drop(columns=['actor_1_facebook_likes', 'num_user_for_reviews'])\n",
        "X_test = X_test.drop(columns=['actor_1_facebook_likes', 'num_user_for_reviews'])"
      ],
      "metadata": {
        "id": "OMJpnuDUyIv9"
      },
      "execution_count": 20,
      "outputs": []
    },
    {
      "cell_type": "code",
      "source": [
        "from sklearn.linear_model import LogisticRegression\n",
        "from sklearn.tree import DecisionTreeClassifier\n",
        "from sklearn.neighbors import KNeighborsClassifier\n",
        "from sklearn.neural_network import MLPClassifier\n",
        "from sklearn.svm import SVC\n",
        "\n",
        "v1 = LogisticRegression()\n",
        "v2 = DecisionTreeClassifier(criterion='entropy',max_depth=4)\n",
        "v3 = KNeighborsClassifier(n_neighbors=9,metric='euclidean')\n",
        "v4 = MLPClassifier(hidden_layer_sizes=(28), activation=\"relu\", solver='adam', random_state=1, max_iter=1000)\n",
        "v5 = SVC(C=100, gamma=1, random_state=1)"
      ],
      "metadata": {
        "id": "rJjDDR6uxcHF"
      },
      "execution_count": 21,
      "outputs": []
    },
    {
      "cell_type": "code",
      "source": [
        "from sklearn.ensemble import VotingClassifier\n",
        "\n",
        "vc = VotingClassifier(estimators=[ ('Logistic Regression', v1), \\\n",
        "                                   ('Decision Tree', v2), \\\n",
        "                                   ('K Nearest Neighbors', v3), \\\n",
        "                                   ('Neural Network',v4), \\\n",
        "                                   ('Support Vector', v5) ], voting='hard', weights=None, n_jobs=None, flatten_transform=True, verbose=False)"
      ],
      "metadata": {
        "id": "jit_rLa2zKrH"
      },
      "execution_count": 22,
      "outputs": []
    },
    {
      "cell_type": "code",
      "source": [
        "vc.fit(X_train, y_train)\n",
        "y_train_pred = vc.predict(X_train)\n",
        "y_pred = vc.predict(X_test)"
      ],
      "metadata": {
        "colab": {
          "base_uri": "https://localhost:8080/"
        },
        "id": "rs7flFG10Anu",
        "outputId": "69a4f7e2-c7f5-44b1-be0e-5f645ab818e3"
      },
      "execution_count": 23,
      "outputs": [
        {
          "output_type": "stream",
          "name": "stderr",
          "text": [
            "/usr/local/lib/python3.7/dist-packages/sklearn/preprocessing/_label.py:98: DataConversionWarning: A column-vector y was passed when a 1d array was expected. Please change the shape of y to (n_samples, ), for example using ravel().\n",
            "  y = column_or_1d(y, warn=True)\n",
            "/usr/local/lib/python3.7/dist-packages/sklearn/preprocessing/_label.py:133: DataConversionWarning: A column-vector y was passed when a 1d array was expected. Please change the shape of y to (n_samples, ), for example using ravel().\n",
            "  y = column_or_1d(y, warn=True)\n"
          ]
        }
      ]
    },
    {
      "cell_type": "code",
      "source": [
        "import matplotlib.pyplot as plt\n",
        "import seaborn as sns\n",
        "from sklearn import metrics\n",
        "print(\"Classification Report: \\n\", metrics.classification_report(y_test,y_pred,target_names=('LOW', 'HIGH')),'\\n')\n",
        "print(\"Accuracy on train:\\n\",metrics.accuracy_score(y_train,y_train_pred).round(3))\n",
        "print(\"Accuracy on test:\\n\",metrics.accuracy_score(y_test,y_pred).round(3))\n",
        "cf=metrics.confusion_matrix(y_test,y_pred).round(3)\n",
        "sns.heatmap(cf,annot=True,cmap='Blues')\n",
        "plt.ylabel(\"True Label\")\n",
        "plt.xlabel(\"Predict Label\")\n",
        "plt.show()"
      ],
      "metadata": {
        "colab": {
          "base_uri": "https://localhost:8080/",
          "height": 553
        },
        "id": "J6O_weeo0Ky_",
        "outputId": "b3bbd544-a514-476f-effa-7936da379dba"
      },
      "execution_count": 24,
      "outputs": [
        {
          "output_type": "stream",
          "name": "stdout",
          "text": [
            "Classification Report: \n",
            "               precision    recall  f1-score   support\n",
            "\n",
            "         LOW       0.73      0.87      0.79       635\n",
            "        HIGH       0.84      0.67      0.75       640\n",
            "\n",
            "    accuracy                           0.77      1275\n",
            "   macro avg       0.78      0.77      0.77      1275\n",
            "weighted avg       0.79      0.77      0.77      1275\n",
            " \n",
            "\n",
            "Accuracy on train:\n",
            " 0.768\n",
            "Accuracy on test:\n",
            " 0.773\n"
          ]
        },
        {
          "output_type": "display_data",
          "data": {
            "text/plain": [
              "<Figure size 432x288 with 2 Axes>"
            ],
            "image/png": "[encoded data removed]"
          },
          "metadata": {
            "needs_background": "light"
          }
        }
      ]
    }
  ]
}